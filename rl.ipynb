{
 "cells": [
  {
   "cell_type": "code",
   "execution_count": 7,
   "metadata": {},
   "outputs": [
    {
     "name": "stderr",
     "output_type": "stream",
     "text": [
      "/usr/local/lib/python2.7/dist-packages/h5py/__init__.py:36: FutureWarning: Conversion of the second argument of issubdtype from `float` to `np.floating` is deprecated. In future, it will be treated as `np.float64 == np.dtype(float).type`.\n",
      "  from ._conv import register_converters as _register_converters\n"
     ]
    }
   ],
   "source": [
    "from __future__ import print_function\n",
    "\n",
    "import tensorflow as tf\n",
    "import tensorflow.contrib.eager as tfe\n",
    "tfe.enable_eager_execution(device_policy=tfe.DEVICE_PLACEMENT_SILENT)"
   ]
  },
  {
   "cell_type": "code",
   "execution_count": 8,
   "metadata": {},
   "outputs": [],
   "source": [
    "import numpy as np\n",
    "from collections import deque\n",
    "import random"
   ]
  },
  {
   "cell_type": "code",
   "execution_count": 9,
   "metadata": {},
   "outputs": [],
   "source": [
    "## Hyper parameter\n",
    "INITIAL_EPSILON = 1.0\n",
    "FINAL_EPSILON = 0.1\n",
    "LEARNING_RATE = 0.001\n",
    "EXPLORATION_STEPS = 5000000\n",
    "BATCH_SIZE = 32\n",
    "GAMMA = 0.95"
   ]
  },
  {
   "cell_type": "code",
   "execution_count": 10,
   "metadata": {},
   "outputs": [],
   "source": [
    "ttt=[]"
   ]
  },
  {
   "cell_type": "code",
   "execution_count": 11,
   "metadata": {},
   "outputs": [],
   "source": [
    "class ReplayMemory:\n",
    "    def __init__(self, max_length):\n",
    "        self.memory = deque(maxlen=max_length)\n",
    "        \n",
    "    def add(self, state, action, reward, next_state, terminal):\n",
    "        self.memory.append([state,action,reward, next_state, terminal])\n",
    "        \n",
    "    def get_batch(self, batch_size):\n",
    "        sampling = np.array(random.sample(self.memory, batch_size))\n",
    "        state_batch = np.stack(sampling[:,0])\n",
    "        next_state_batch = np.stack(sampling[:,3])\n",
    "        return state_batch,sampling[:,1], sampling[:,2], next_state_batch, sampling[:,4]\n",
    "        \n",
    "    def __len__(self):\n",
    "        return len(self.memory)"
   ]
  },
  {
   "cell_type": "code",
   "execution_count": 12,
   "metadata": {},
   "outputs": [],
   "source": [
    "class DQNAgent(tf.keras.Model):\n",
    "    def __init__(self, state_shape, action_dim, checkpoint_directory, batch_size=32):\n",
    "        super(DQNAgent, self).__init__()\n",
    "        self.state_shape = state_shape\n",
    "        self.action_dim = action_dim\n",
    "\n",
    "        self.checkpoint_directory = checkpoint_directory\n",
    "\n",
    "        \n",
    "        # init q layers\n",
    "        self.conv1 = tf.layers.Conv2D(32, 8, 8, padding='same', activation=tf.nn.relu)\n",
    "        self.batch1 = tf.layers.BatchNormalization()\n",
    "        self.conv2 = tf.layers.Conv2D(64, 4, 4, padding='same', activation=tf.nn.relu)\n",
    "        self.batch2 = tf.layers.BatchNormalization()\n",
    "        self.conv3 = tf.layers.Conv2D(64, 3, 3, padding='same', activation=tf.nn.relu)\n",
    "        self.flatten = tf.layers.Flatten()\n",
    "        \n",
    "        self.dense1 = tf.layers.Dense(512, activation=tf.nn.relu)\n",
    "        self.dense2 = tf.layers.Dense(action_dim, activation=None)\n",
    "        \n",
    "        \n",
    "        # learning optimizer\n",
    "        self.optimizer = tf.train.AdamOptimizer(LEARNING_RATE)\n",
    "\n",
    "        # epsilon-greedy\n",
    "        self.epsilon = INITIAL_EPSILON\n",
    "        self.epsilon_step = (INITIAL_EPSILON - FINAL_EPSILON)/EXPLORATION_STEPS\n",
    "        \n",
    "        # replay_memory\n",
    "        self.replay_memory = ReplayMemory(10000)\n",
    "        \n",
    "        self.batch_size = batch_size\n",
    "        \n",
    "    def predict(self, state_batch, training):\n",
    "        \n",
    "        if isinstance(state_batch, (np.ndarray, np.generic)):\n",
    "            state_batch = tf.convert_to_tensor(state_batch)\n",
    "\n",
    "        \n",
    "        x = self.conv1(state_batch)\n",
    "        x = self.batch1(x, training=training)        \n",
    "        x = self.conv2(x)\n",
    "        x = self.batch2(x, training=training)\n",
    "        x = self.conv3(x)\n",
    "        x = self.flatten(x)\n",
    "        x = self.dense1(x)\n",
    "        x = self.dense2(x)\n",
    "        \n",
    "        return x\n",
    "    \n",
    "    def loss(self, state_batch, target, training):\n",
    "        preds = self.predict(state_batch, training)\n",
    "        loss_value = tf.losses.mean_squared_error(labels=target, predictions=preds)\n",
    "        return loss_value\n",
    "    \n",
    "    def grad(self, state_batch, target, training):\n",
    "        with tfe.GradientTape() as tape:\n",
    "            loss_value = self.loss(state_batch, target, training)\n",
    "        return tape.gradient(loss_value, self.variables)\n",
    "        \n",
    "    \n",
    "    def get_action(self, state, training=False):\n",
    "        if training:\n",
    "            if self.epsilon >= random.random():\n",
    "                action = tf.convert_to_tensor(random.randrange(self.action_dim))\n",
    "            else:\n",
    "                action = tf.argmax(self.predict(state.reshape(-1,105,80,1), training=training),1)    \n",
    "            \n",
    "            if self.epsilon > FINAL_EPSILON:\n",
    "                self.epsilon-=self.epsilon_step\n",
    "            \n",
    "            return action \n",
    "        \n",
    "        else:\n",
    "            return tf.argmax(self.predict(state.reshape(-1,105,80,1), training=training),1)    \n",
    "        \n",
    "    \n",
    "    def fit(self, state, action, reward, next_state, terminal, num_epochs=1):\n",
    "        \n",
    "        self.replay_memory.add(state,action,reward,next_state,terminal)\n",
    "        \n",
    "        if len(self.replay_memory)<self.batch_size:\n",
    "            return\n",
    "        \n",
    "        state_batch, action_batch, reward_batch, next_state_batch, terminal_batch = self.replay_memory.get_batch(self.batch_size)\n",
    "        \n",
    "\n",
    "        current_q = self.predict(state_batch, training= False).numpy()\n",
    "        now_q = current_q.copy() * 0.75\n",
    "        \n",
    "        target_q_batch = self.predict(next_state_batch, training=False)\n",
    "        \n",
    "        y_batch = reward_batch + (1-terminal_batch) * GAMMA * np.max(target_q_batch, axis = 1)\n",
    "                \n",
    "        for i in range(self.batch_size):\n",
    "            now_q[i,action_batch[i]] = y_batch[i]\n",
    "        \n",
    "        with tf.device(\"gpu:0\"):\n",
    "            for i in range(num_epochs):\n",
    "                grads = self.grad(state_batch, now_q, True)\n",
    "                self.optimizer.apply_gradients(zip(grads, self.variables))\n",
    "\n",
    "    \n",
    "    def save(self, global_step=0):\n",
    "#         print(\"saving...%i.........\" % global_step , end='')\n",
    "        tfe.Saver(self.variables).save(self.checkpoint_directory, global_step=global_step)\n",
    "#         print(\"saved\")\n",
    "        \n",
    "    def load(self):\n",
    "        # Run the model once to initialize variables\n",
    "        dummy_input = tf.constant(tf.zeros(self.state_shape))\n",
    "        dummy_pred = self.predict(dummy_input, training=False)\n",
    "        # Restore the variables of the model\n",
    "        saver = tfe.Saver(self.variables)\n",
    "        saver.restore(tf.train.latest_checkpoint\n",
    "                      (self.checkpoint_directory))"
   ]
  },
  {
   "cell_type": "code",
   "execution_count": 13,
   "metadata": {},
   "outputs": [],
   "source": [
    "def to_grayscale(img):\n",
    "    return np.mean(img, axis=2).astype(np.uint8)\n",
    "\n",
    "def downsample(img):\n",
    "    return img[::2, ::2]\n",
    "\n",
    "def preprocess(img):\n",
    "    return to_grayscale(downsample(img)).astype(\"float32\")"
   ]
  },
  {
   "cell_type": "code",
   "execution_count": null,
   "metadata": {},
   "outputs": [
    {
     "name": "stdout",
     "output_type": "stream",
     "text": [
      "Episode 0 finished after 206 timesteps\n",
      "reward: 1\n",
      "epsilon: 0.99996292\n"
     ]
    }
   ],
   "source": [
    "import gym\n",
    "env = gym.make('Breakout-v0')\n",
    "agent = DQNAgent(state_shape=(1, 105, 80, 1), action_dim=4, checkpoint_directory=\"./models_checkpoints/rl/\", batch_size=32)\n",
    "for i_episode in range(10000):\n",
    "    observation = env.reset()\n",
    "    total_reward = 0\n",
    "    for t in range(10000000):\n",
    "#         env.render()\n",
    "        now_state= preprocess(observation).reshape(105,80,1)\n",
    "        action = agent.get_action(now_state, training=True).numpy()\n",
    "        observation, reward, done, info = env.step(action)\n",
    "        if(done):\n",
    "            done = 1\n",
    "        else:\n",
    "            done = 0\n",
    "        next_state= preprocess(observation).reshape(105,80,1)\n",
    "        agent.fit(now_state, action, reward, next_state, done)\n",
    "        total_reward += reward\n",
    "        if done:\n",
    "#                 if i_episode % 10 == 0:\n",
    "#                     print(\"%d....\" % i_episode)\n",
    "            if i_episode % 50 == 0:\n",
    "                print(\"Episode {} finished after {} timesteps\".format(i_episode,t+1))\n",
    "                print(\"reward: %d\" % total_reward)\n",
    "                print(\"epsilon: %s\"% agent.epsilon)\n",
    "                agent.save(i_episode)\n",
    "            break"
   ]
  },
  {
   "cell_type": "code",
   "execution_count": null,
   "metadata": {},
   "outputs": [],
   "source": []
  }
 ],
 "metadata": {
  "kernelspec": {
   "display_name": "Python 2",
   "language": "python",
   "name": "python2"
  },
  "language_info": {
   "codemirror_mode": {
    "name": "ipython",
    "version": 2
   },
   "file_extension": ".py",
   "mimetype": "text/x-python",
   "name": "python",
   "nbconvert_exporter": "python",
   "pygments_lexer": "ipython2",
   "version": "2.7.12"
  }
 },
 "nbformat": 4,
 "nbformat_minor": 2
}
