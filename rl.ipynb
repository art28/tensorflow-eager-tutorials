{
 "cells": [
  {
   "cell_type": "code",
   "execution_count": 1,
   "metadata": {},
   "outputs": [],
   "source": [
    "import tensorflow as tf\n",
    "import tensorflow.contrib.eager as tfe\n",
    "tfe.enable_eager_execution(device_policy=tfe.DEVICE_PLACEMENT_SILENT)"
   ]
  },
  {
   "cell_type": "code",
   "execution_count": 2,
   "metadata": {},
   "outputs": [],
   "source": [
    "import numpy as np\n",
    "from collections import deque\n",
    "import random"
   ]
  },
  {
   "cell_type": "code",
   "execution_count": 3,
   "metadata": {},
   "outputs": [],
   "source": [
    "## Hyper parameter\n",
    "INITIAL_EPSILON = 1\n",
    "FINAL_EPSILON = 0.05\n",
    "LEARNING_RATE = 0.0005\n",
    "EXPLORATION_STEPS = 3000000\n",
    "BATCH_SIZE = 32\n",
    "GAMMA = 0.95"
   ]
  },
  {
   "cell_type": "code",
   "execution_count": 4,
   "metadata": {},
   "outputs": [],
   "source": [
    "ttt=[]"
   ]
  },
  {
   "cell_type": "code",
   "execution_count": 5,
   "metadata": {},
   "outputs": [],
   "source": [
    "class ReplayMemory:\n",
    "    def __init__(self, max_length):\n",
    "        self.memory = deque(maxlen=max_length)\n",
    "        \n",
    "    def add(self, state, action, reward, next_state, terminal):\n",
    "        self.memory.append([state,action,reward, next_state, terminal])\n",
    "        \n",
    "    def get_batch(self, batch_size):\n",
    "        sampling = random.sample(self.memory, batch_size)\n",
    "        temp = tf.concat([sampling[i][0] for i in range(batch_size)], axis=0)\n",
    "        temp2 = tf.concat([sampling[i][3] for i in range(batch_size)], axis=0)\n",
    "        dq = np.array(sampling)\n",
    "        return temp,dq[:,1], dq[:,2], temp2, dq[:,4]\n",
    "        \n",
    "    def __len__(self):\n",
    "        return len(self.memory)"
   ]
  },
  {
   "cell_type": "code",
   "execution_count": 6,
   "metadata": {},
   "outputs": [],
   "source": [
    "class DQNAgent(tf.keras.Model):\n",
    "    def __init__(self, state_shape, action_dim, checkpoint_directory, batch_size=32):\n",
    "        super(DQNAgent, self).__init__()\n",
    "        self.state_shape = state_shape\n",
    "        self.action_dim = action_dim\n",
    "\n",
    "        self.checkpoint_directory = checkpoint_directory\n",
    "\n",
    "        \n",
    "        # init q layers\n",
    "        self.conv1 = tf.layers.Conv2D(32, 8, 8, padding='same', activation=tf.nn.relu)\n",
    "        self.batch1 = tf.layers.BatchNormalization()\n",
    "        self.conv2 = tf.layers.Conv2D(64, 4, 4, padding='same', activation=tf.nn.relu)\n",
    "        self.batch2 = tf.layers.BatchNormalization()\n",
    "        self.conv3 = tf.layers.Conv2D(64, 3, 3, padding='same', activation=tf.nn.relu)\n",
    "        self.flatten = tf.layers.Flatten()\n",
    "        \n",
    "        self.dense1 = tf.layers.Dense(512, activation=tf.nn.relu)\n",
    "        self.dense2 = tf.layers.Dense(action_dim, activation=None)\n",
    "        \n",
    "        \n",
    "        # learning optimizer\n",
    "        self.optimizer = tf.train.GradientDescentOptimizer(LEARNING_RATE)\n",
    "\n",
    "        # epsilon-greedy\n",
    "        self.epsilon = INITIAL_EPSILON\n",
    "        self.epsilon_step = (INITIAL_EPSILON - FINAL_EPSILON)/EXPLORATION_STEPS\n",
    "        \n",
    "        # replay_memory\n",
    "        self.replay_memory = ReplayMemory(400)\n",
    "        \n",
    "        self.batch_size = batch_size\n",
    "        \n",
    "    def predict(self, state_batch, training):\n",
    "        \n",
    "        if isinstance(state_batch, (np.ndarray, np.generic)):\n",
    "            state_batch = tf.convert_to_tensor(state_batch)\n",
    "\n",
    "        \n",
    "        x = self.conv1(state_batch)\n",
    "        x = self.batch1(x, training=training)        \n",
    "        x = self.conv2(x)\n",
    "        x = self.batch2(x, training=training)\n",
    "        x = self.conv3(x)\n",
    "        x = self.flatten(x)\n",
    "        x = self.dense1(x)\n",
    "        x = self.dense2(x)\n",
    "        \n",
    "        return x\n",
    "    \n",
    "    def loss(self, state_batch, target, training):\n",
    "        preds = self.predict(state_batch, training)\n",
    "        loss_value = tf.losses.mean_squared_error(labels=target, predictions=preds)\n",
    "        return loss_value\n",
    "    \n",
    "    def grad(self, state_batch, target, training):\n",
    "        with tfe.GradientTape() as tape:\n",
    "            loss_value = self.loss(state_batch, target, training)\n",
    "        return tape.gradient(loss_value, self.variables)\n",
    "        \n",
    "    \n",
    "    def get_action(self, state, training=False):\n",
    "        if training:\n",
    "            if self.epsilon >= random.random():\n",
    "                action = tf.convert_to_tensor(random.randrange(self.action_dim))\n",
    "            else:\n",
    "                action = tf.argmax(self.predict(state, training=training),1)    \n",
    "            \n",
    "            if self.epsilon > FINAL_EPSILON:\n",
    "                self.epsilon -= self.epsilon_step    \n",
    "            \n",
    "            return action \n",
    "        \n",
    "        else:\n",
    "            return tf.argmax(self.predict(state, training=training),1)    \n",
    "        \n",
    "    \n",
    "    def fit(self, state, action, reward, next_state, terminal, num_epochs=10):\n",
    "        \n",
    "        self.replay_memory.add(state,action,reward,next_state,terminal)\n",
    "        \n",
    "        if len(self.replay_memory)<self.batch_size:\n",
    "            return\n",
    "        \n",
    "        state_batch, action_batch, reward_batch, next_state_batch, terminal_batch = self.replay_memory.get_batch(self.batch_size)\n",
    "        \n",
    "\n",
    "        \n",
    "        target_q_batch = self.predict(next_state_batch, training=False)\n",
    "        \n",
    "        y_batch = reward_batch + (1-terminal_batch) * GAMMA * np.max(target_q_batch, axis = 1)\n",
    "        \n",
    "        y_batch_q = np.zeros((self.batch_size, self.action_dim), dtype=\"float32\")\n",
    "        \n",
    "        for i in range(self.batch_size):\n",
    "            y_batch_q[i,action_batch[i]] = y_batch[i]\n",
    "        \n",
    "        \n",
    "        for i in range(num_epochs):\n",
    "            grads = self.grad(state_batch, y_batch_q, True)\n",
    "            self.optimizer.apply_gradients(zip(grads, self.variables))\n",
    "                    \n",
    "    \n",
    "    def save(self, global_step=0):\n",
    "        tfe.Saver(self.variables).save(self.checkpoint_directory, global_step=global_step)\n",
    "        \n",
    "        \n",
    "    def load(self):\n",
    "        # Run the model once to initialize variables\n",
    "        dummy_input = tf.constant(tf.zeros(state_shape))\n",
    "        dummy_pred = self.predict(dummy_input, training=False)\n",
    "        # Restore the variables of the model\n",
    "        saver = tfe.Saver(self.variables)\n",
    "        saver.restore(tf.train.latest_checkpoint\n",
    "                      (self.checkpoint_directory))"
   ]
  },
  {
   "cell_type": "code",
   "execution_count": null,
   "metadata": {},
   "outputs": [
    {
     "name": "stdout",
     "output_type": "stream",
     "text": [
      "0....\n",
      "Episode 0 finished after 174 timesteps\n",
      "reward: 0\n"
     ]
    }
   ],
   "source": [
    "import gym\n",
    "env = gym.make('Breakout-v0')\n",
    "agent = DQNAgent(state_shape=(210, 160, 3), action_dim=4, checkpoint_directory=\"./models_checkpoints/\", batch_size=32)\n",
    "with tf.device(\"gpu:0\"):\n",
    "    for i_episode in range(100000):\n",
    "        observation = env.reset()\n",
    "        total_reward = 0\n",
    "        for t in range(10000000):\n",
    "#             env.render()\n",
    "            now_state= observation.astype(\"float32\").reshape(-1,210,160,3)\n",
    "            action = agent.get_action(now_state, training=True).numpy()\n",
    "            observation, reward, done, info = env.step(action)\n",
    "            done = 1 if done == True else 0\n",
    "            next_state= observation.astype(\"float32\").reshape(-1,210,160,3)\n",
    "            agent.fit(now_state, action, reward, next_state, done)\n",
    "            total_reward += reward\n",
    "            if done:\n",
    "                if i_episode % 10 == 0:\n",
    "                    print(\"%d....\" % i_episode)\n",
    "                if i_episode % 50 == 0:\n",
    "                    print(\"Episode {} finished after {} timesteps\".format(i_episode,t+1))\n",
    "                    print(\"reward: %d\" % total_reward)\n",
    "                break"
   ]
  },
  {
   "cell_type": "code",
   "execution_count": null,
   "metadata": {},
   "outputs": [],
   "source": [
    "tf.concat((temp[0][0], temp[1][0]), axis=0)"
   ]
  },
  {
   "cell_type": "code",
   "execution_count": null,
   "metadata": {},
   "outputs": [],
   "source": [
    "agent.predict(temp, training=True).numpy()"
   ]
  },
  {
   "cell_type": "code",
   "execution_count": null,
   "metadata": {},
   "outputs": [],
   "source": [
    "ttt"
   ]
  },
  {
   "cell_type": "code",
   "execution_count": null,
   "metadata": {},
   "outputs": [],
   "source": [
    "type(ttt[0])"
   ]
  },
  {
   "cell_type": "code",
   "execution_count": null,
   "metadata": {},
   "outputs": [],
   "source": [
    "tf.convert_to_tensor(ttt.astype(\"float32\"))"
   ]
  },
  {
   "cell_type": "code",
   "execution_count": null,
   "metadata": {},
   "outputs": [],
   "source": []
  }
 ],
 "metadata": {
  "kernelspec": {
   "display_name": "Python 3",
   "language": "python",
   "name": "python3"
  },
  "language_info": {
   "codemirror_mode": {
    "name": "ipython",
    "version": 2
   },
   "file_extension": ".py",
   "mimetype": "text/x-python",
   "name": "python",
   "nbconvert_exporter": "python",
   "pygments_lexer": "ipython2",
   "version": "2.7.12"
  }
 },
 "nbformat": 4,
 "nbformat_minor": 2
}
